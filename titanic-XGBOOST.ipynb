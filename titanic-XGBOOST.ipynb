{
 "cells": [
  {
   "cell_type": "markdown",
   "metadata": {},
   "source": [
    "# Titanic Survivability in SageMaker"
   ]
  },
  {
   "cell_type": "markdown",
   "metadata": {},
   "source": [
    "## Prerequisites and Data <a class=\"anchor\" id=\"pre_and_data\">\n",
    "### Initialize SageMaker  <a class=\"anchor\" id=\"initsagemaker\">\n",
    "Add the data files for training set, test set and validation set"
   ]
  },
  {
   "cell_type": "code",
   "execution_count": 2,
   "metadata": {},
   "outputs": [
    {
     "name": "stdout",
     "output_type": "stream",
     "text": [
      "1. finished uploading training set\n"
     ]
    }
   ],
   "source": [
    "import sagemaker\n",
    "from sagemaker import Session\n",
    "bucket = 'ml-i6-breakingcode'\n",
    "prefix = 'sagemaker/ebsco-titanic-survivabiity'\n",
    "\n",
    "# Define IAM role\n",
    "import re\n",
    "from sagemaker import get_execution_role\n",
    "import pandas as pd\n",
    "import numpy as np\n",
    "import urllib\n",
    "import os\n",
    "import sklearn.preprocessing as preprocessing\n",
    "import seaborn as sns\n",
    "\n",
    "role = get_execution_role()\n",
    "data_key = 'train.csv'\n",
    "data_location = 's3://{}/{}'.format(bucket, data_key)\n",
    "training_set = pd.read_csv(data_location)\n",
    "print(\"1. finished uploading training set\")"
   ]
  },
  {
   "cell_type": "markdown",
   "metadata": {},
   "source": [
    "### Data Manipulation <a class=\"anchor\" id=\"inspect_data\">\n",
    "Remove columns that doesn't affect the analysis from the training set"
   ]
  },
  {
   "cell_type": "code",
   "execution_count": 7,
   "metadata": {},
   "outputs": [],
   "source": [
    "clean_data = training_set.drop(\"Name\", axis = 1)\n",
    "clean_data.head()\n",
    "clean_data = clean_data.drop(\"Ticket\", axis = 1)\n",
    "clean_data.head()\n",
    "clean_data = clean_data.drop(\"Cabin\", axis = 1)\n",
    "clean_data.head()\n",
    "clean_data = clean_data.drop(\"PassengerId\", axis = 1)\n",
    "clean_data.head()\n",
    "clean_data = pd.get_dummies(clean_data, columns = [\"Sex\"])\n",
    "clean_data.head()\n",
    "clean_data = pd.get_dummies(clean_data, columns = [\"Embarked\"])\n",
    "clean_data.head()\n",
    "clean_data = clean_data.dropna(how='any',axis = 0)\n",
    "clean_data.head()\n",
    "\n",
    "train_data, validation_data, test_data = np.split(clean_data.sample(frac=1, random_state=1729), [int(0.7 * len(clean_data)), int(0.9 * len(clean_data))])\n",
    "train_data.to_csv('train.csv', header=False, index=False)\n",
    "validation_data.to_csv('validation.csv', header=False, index=False)"
   ]
  },
  {
   "cell_type": "markdown",
   "metadata": {},
   "source": [
    "Data inspection\n",
    "Plotting histograms of the distribution of the different features is a good way to visualize the data. We plot both the whole dataset distributions (left) and the distrubtions in the case of positive labels only (right)."
   ]
  },
  {
   "cell_type": "code",
   "execution_count": 8,
   "metadata": {},
   "outputs": [
    {
     "data": {
      "image/png": "[encoded data removed]",
      "text/plain": [
       "<Figure size 432x288 with 1 Axes>"
      ]
     },
     "metadata": {},
     "output_type": "display_data"
    }
   ],
   "source": [
    "import matplotlib.pyplot as plt\n",
    "import pandas as pd\n",
    "\n",
    "data = clean_data['Age']\n",
    "\n",
    "data.plot(kind='hist')\n",
    "plt.ylabel('Number of people')\n",
    "plt.xlabel('Age')\n",
    "plt.title('Distribution of Age')\n",
    "plt.show()"
   ]
  },
  {
   "cell_type": "code",
   "execution_count": 20,
   "metadata": {},
   "outputs": [
    {
     "data": {
      "image/png": "[encoded data removed]",
      "text/plain": [
       "<Figure size 432x288 with 1 Axes>"
      ]
     },
     "metadata": {},
     "output_type": "display_data"
    }
   ],
   "source": [
    "data = clean_data['Pclass']\n",
    "\n",
    "data.plot(kind='hist')\n",
    "plt.ylabel('Number of people')\n",
    "plt.xlabel('Passenger class')\n",
    "plt.title('Distribuition of Passengers in classes')\n",
    "plt.show()"
   ]
  },
  {
   "cell_type": "markdown",
   "metadata": {},
   "source": [
    "Upload the train set and validation set into s3 bucket"
   ]
  },
  {
   "cell_type": "code",
   "execution_count": 9,
   "metadata": {},
   "outputs": [],
   "source": [
    "import boto3\n",
    "boto3.Session().resource('s3').Bucket(bucket).Object(os.path.join(prefix, 'train/train.csv')).upload_file('train.csv')\n",
    "boto3.Session().resource('s3').Bucket(bucket).Object(os.path.join(prefix, 'validation/validation.csv')).upload_file('validation.csv')"
   ]
  },
  {
   "cell_type": "markdown",
   "metadata": {},
   "source": [
    "## Standard linear model  <a class=\"anchor\" id=\"train_linear_model\">\n",
    "\n",
    "Once we have the data preprocessed and available in the correct format for training, the next step is to actually train the model using the data. More details on algorithm containers can be found in [AWS documentation](https://docs-aws.amazon.com/sagemaker/latest/dg/sagemaker-algo-docker-registry-paths.html)."
   ]
  },
  {
   "cell_type": "code",
   "execution_count": 10,
   "metadata": {},
   "outputs": [
    {
     "name": "stdout",
     "output_type": "stream",
     "text": [
      "2019-07-10 15:36:46 Starting - Starting the training job...\n",
      "2019-07-10 15:36:54 Starting - Launching requested ML instances......\n",
      "2019-07-10 15:37:56 Starting - Preparing the instances for training......\n",
      "2019-07-10 15:39:16 Downloading - Downloading input data\n",
      "2019-07-10 15:39:16 Training - Downloading the training image...\n",
      "2019-07-10 15:39:46 Uploading - Uploading generated training model\n",
      "2019-07-10 15:39:46 Completed - Training job completed\n",
      "\n",
      "\u001b[31mArguments: train\u001b[0m\n",
      "\u001b[31m[2019-07-10:15:39:34:INFO] Running standalone xgboost training.\u001b[0m\n",
      "\u001b[31m[2019-07-10:15:39:34:INFO] File size need to be processed in the node: 0.02mb. Available memory size in the node: 8445.13mb\u001b[0m\n",
      "\u001b[31m[2019-07-10:15:39:34:INFO] Determined delimiter of CSV input is ','\u001b[0m\n",
      "\u001b[31m[15:39:34] S3DistributionType set as FullyReplicated\u001b[0m\n",
      "\u001b[31m[15:39:34] 499x10 matrix with 4990 entries loaded from /opt/ml/input/data/train?format=csv&label_column=0&delimiter=,\u001b[0m\n",
      "\u001b[31m[2019-07-10:15:39:34:INFO] Determined delimiter of CSV input is ','\u001b[0m\n",
      "\u001b[31m[15:39:34] S3DistributionType set as FullyReplicated\u001b[0m\n",
      "\u001b[31m[15:39:34] 143x10 matrix with 1430 entries loaded from /opt/ml/input/data/validation?format=csv&label_column=0&delimiter=,\u001b[0m\n",
      "\u001b[31m[15:39:34] src/tree/updater_prune.cc:74: tree pruning end, 1 roots, 8 extra nodes, 4 pruned nodes, max_depth=3\u001b[0m\n",
      "\u001b[31m[0]#011train-error:0.224449#011validation-error:0.146853\u001b[0m\n",
      "\u001b[31m[15:39:34] src/tree/updater_prune.cc:74: tree pruning end, 1 roots, 12 extra nodes, 0 pruned nodes, max_depth=3\u001b[0m\n",
      "\u001b[31m[1]#011train-error:0.202405#011validation-error:0.181818\u001b[0m\n",
      "\u001b[31m[15:39:34] src/tree/updater_prune.cc:74: tree pruning end, 1 roots, 8 extra nodes, 6 pruned nodes, max_depth=3\u001b[0m\n",
      "\u001b[31m[2]#011train-error:0.202405#011validation-error:0.181818\u001b[0m\n",
      "\u001b[31m[15:39:34] src/tree/updater_prune.cc:74: tree pruning end, 1 roots, 8 extra nodes, 10 pruned nodes, max_depth=3\u001b[0m\n",
      "\u001b[31m[3]#011train-error:0.202405#011validation-error:0.181818\u001b[0m\n",
      "\u001b[31m[15:39:34] src/tree/updater_prune.cc:74: tree pruning end, 1 roots, 6 extra nodes, 10 pruned nodes, max_depth=2\u001b[0m\n",
      "\u001b[31m[4]#011train-error:0.202405#011validation-error:0.181818\u001b[0m\n",
      "\u001b[31m[15:39:34] src/tree/updater_prune.cc:74: tree pruning end, 1 roots, 4 extra nodes, 12 pruned nodes, max_depth=2\u001b[0m\n",
      "\u001b[31m[5]#011train-error:0.206413#011validation-error:0.181818\u001b[0m\n",
      "\u001b[31m[15:39:34] src/tree/updater_prune.cc:74: tree pruning end, 1 roots, 6 extra nodes, 10 pruned nodes, max_depth=3\u001b[0m\n",
      "\u001b[31m[6]#011train-error:0.202405#011validation-error:0.174825\u001b[0m\n",
      "\u001b[31m[15:39:34] src/tree/updater_prune.cc:74: tree pruning end, 1 roots, 10 extra nodes, 6 pruned nodes, max_depth=5\u001b[0m\n",
      "\u001b[31m[7]#011train-error:0.196393#011validation-error:0.174825\u001b[0m\n",
      "\u001b[31m[15:39:34] src/tree/updater_prune.cc:74: tree pruning end, 1 roots, 8 extra nodes, 8 pruned nodes, max_depth=3\u001b[0m\n",
      "\u001b[31m[8]#011train-error:0.184369#011validation-error:0.174825\u001b[0m\n",
      "\u001b[31m[15:39:34] src/tree/updater_prune.cc:74: tree pruning end, 1 roots, 4 extra nodes, 10 pruned nodes, max_depth=2\u001b[0m\n",
      "\u001b[31m[9]#011train-error:0.180361#011validation-error:0.167832\u001b[0m\n",
      "\u001b[31m[15:39:34] src/tree/updater_prune.cc:74: tree pruning end, 1 roots, 2 extra nodes, 8 pruned nodes, max_depth=1\u001b[0m\n",
      "\u001b[31m[10]#011train-error:0.180361#011validation-error:0.167832\u001b[0m\n",
      "\u001b[31m[15:39:34] src/tree/updater_prune.cc:74: tree pruning end, 1 roots, 4 extra nodes, 10 pruned nodes, max_depth=2\u001b[0m\n",
      "\u001b[31m[11]#011train-error:0.178357#011validation-error:0.132867\u001b[0m\n",
      "\u001b[31m[15:39:34] src/tree/updater_prune.cc:74: tree pruning end, 1 roots, 4 extra nodes, 10 pruned nodes, max_depth=2\u001b[0m\n",
      "\u001b[31m[12]#011train-error:0.188377#011validation-error:0.13986\u001b[0m\n",
      "\u001b[31m[15:39:34] src/tree/updater_prune.cc:74: tree pruning end, 1 roots, 0 extra nodes, 12 pruned nodes, max_depth=0\u001b[0m\n",
      "\u001b[31m[13]#011train-error:0.188377#011validation-error:0.13986\u001b[0m\n",
      "\u001b[31m[15:39:34] src/tree/updater_prune.cc:74: tree pruning end, 1 roots, 4 extra nodes, 10 pruned nodes, max_depth=2\u001b[0m\n",
      "\u001b[31m[14]#011train-error:0.178357#011validation-error:0.132867\u001b[0m\n",
      "\u001b[31m[15:39:34] src/tree/updater_prune.cc:74: tree pruning end, 1 roots, 6 extra nodes, 8 pruned nodes, max_depth=3\u001b[0m\n",
      "\u001b[31m[15]#011train-error:0.180361#011validation-error:0.132867\u001b[0m\n",
      "\u001b[31m[15:39:34] src/tree/updater_prune.cc:74: tree pruning end, 1 roots, 4 extra nodes, 8 pruned nodes, max_depth=2\u001b[0m\n",
      "\u001b[31m[16]#011train-error:0.178357#011validation-error:0.132867\u001b[0m\n",
      "\u001b[31m[15:39:34] src/tree/updater_prune.cc:74: tree pruning end, 1 roots, 0 extra nodes, 12 pruned nodes, max_depth=0\u001b[0m\n",
      "\u001b[31m[17]#011train-error:0.178357#011validation-error:0.132867\u001b[0m\n",
      "\u001b[31m[15:39:34] src/tree/updater_prune.cc:74: tree pruning end, 1 roots, 0 extra nodes, 14 pruned nodes, max_depth=0\u001b[0m\n",
      "\u001b[31m[18]#011train-error:0.178357#011validation-error:0.132867\u001b[0m\n",
      "\u001b[31m[15:39:34] src/tree/updater_prune.cc:74: tree pruning end, 1 roots, 0 extra nodes, 12 pruned nodes, max_depth=0\u001b[0m\n",
      "\u001b[31m[19]#011train-error:0.178357#011validation-error:0.132867\u001b[0m\n",
      "\u001b[31m[15:39:34] src/tree/updater_prune.cc:74: tree pruning end, 1 roots, 0 extra nodes, 14 pruned nodes, max_depth=0\u001b[0m\n",
      "\u001b[31m[20]#011train-error:0.178357#011validation-error:0.132867\u001b[0m\n",
      "\u001b[31m[15:39:34] src/tree/updater_prune.cc:74: tree pruning end, 1 roots, 0 extra nodes, 14 pruned nodes, max_depth=0\u001b[0m\n",
      "\u001b[31m[21]#011train-error:0.178357#011validation-error:0.132867\u001b[0m\n",
      "\u001b[31m[15:39:34] src/tree/updater_prune.cc:74: tree pruning end, 1 roots, 4 extra nodes, 10 pruned nodes, max_depth=2\u001b[0m\n",
      "\u001b[31m[22]#011train-error:0.176353#011validation-error:0.153846\u001b[0m\n",
      "\u001b[31m[15:39:34] src/tree/updater_prune.cc:74: tree pruning end, 1 roots, 0 extra nodes, 14 pruned nodes, max_depth=0\u001b[0m\n",
      "\u001b[31m[23]#011train-error:0.176353#011validation-error:0.153846\u001b[0m\n",
      "\u001b[31m[15:39:34] src/tree/updater_prune.cc:74: tree pruning end, 1 roots, 2 extra nodes, 14 pruned nodes, max_depth=1\u001b[0m\n",
      "\u001b[31m[24]#011train-error:0.168337#011validation-error:0.153846\u001b[0m\n",
      "\u001b[31m[15:39:34] src/tree/updater_prune.cc:74: tree pruning end, 1 roots, 0 extra nodes, 14 pruned nodes, max_depth=0\u001b[0m\n",
      "\u001b[31m[25]#011train-error:0.168337#011validation-error:0.153846\u001b[0m\n",
      "\u001b[31m[15:39:34] src/tree/updater_prune.cc:74: tree pruning end, 1 roots, 0 extra nodes, 12 pruned nodes, max_depth=0\u001b[0m\n",
      "\u001b[31m[26]#011train-error:0.168337#011validation-error:0.153846\u001b[0m\n",
      "\u001b[31m[15:39:34] src/tree/updater_prune.cc:74: tree pruning end, 1 roots, 0 extra nodes, 12 pruned nodes, max_depth=0\u001b[0m\n",
      "\u001b[31m[27]#011train-error:0.168337#011validation-error:0.153846\u001b[0m\n",
      "\u001b[31m[15:39:34] src/tree/updater_prune.cc:74: tree pruning end, 1 roots, 0 extra nodes, 12 pruned nodes, max_depth=0\u001b[0m\n",
      "\u001b[31m[28]#011train-error:0.168337#011validation-error:0.153846\u001b[0m\n",
      "\u001b[31m[15:39:34] src/tree/updater_prune.cc:74: tree pruning end, 1 roots, 0 extra nodes, 10 pruned nodes, max_depth=0\u001b[0m\n",
      "\u001b[31m[29]#011train-error:0.168337#011validation-error:0.153846\u001b[0m\n",
      "\u001b[31m[15:39:34] src/tree/updater_prune.cc:74: tree pruning end, 1 roots, 0 extra nodes, 14 pruned nodes, max_depth=0\u001b[0m\n",
      "\u001b[31m[30]#011train-error:0.168337#011validation-error:0.153846\u001b[0m\n",
      "\u001b[31m[15:39:34] src/tree/updater_prune.cc:74: tree pruning end, 1 roots, 0 extra nodes, 14 pruned nodes, max_depth=0\u001b[0m\n",
      "\u001b[31m[31]#011train-error:0.168337#011validation-error:0.153846\u001b[0m\n",
      "\u001b[31m[15:39:34] src/tree/updater_prune.cc:74: tree pruning end, 1 roots, 0 extra nodes, 10 pruned nodes, max_depth=0\u001b[0m\n",
      "\u001b[31m[32]#011train-error:0.168337#011validation-error:0.153846\u001b[0m\n",
      "\u001b[31m[15:39:34] src/tree/updater_prune.cc:74: tree pruning end, 1 roots, 0 extra nodes, 12 pruned nodes, max_depth=0\u001b[0m\n",
      "\u001b[31m[33]#011train-error:0.168337#011validation-error:0.153846\u001b[0m\n",
      "\u001b[31m[15:39:34] src/tree/updater_prune.cc:74: tree pruning end, 1 roots, 0 extra nodes, 12 pruned nodes, max_depth=0\u001b[0m\n",
      "\u001b[31m[34]#011train-error:0.168337#011validation-error:0.153846\u001b[0m\n",
      "\u001b[31m[15:39:34] src/tree/updater_prune.cc:74: tree pruning end, 1 roots, 0 extra nodes, 14 pruned nodes, max_depth=0\u001b[0m\n",
      "\u001b[31m[35]#011train-error:0.168337#011validation-error:0.153846\u001b[0m\n",
      "\u001b[31m[15:39:34] src/tree/updater_prune.cc:74: tree pruning end, 1 roots, 0 extra nodes, 14 pruned nodes, max_depth=0\u001b[0m\n",
      "\u001b[31m[36]#011train-error:0.168337#011validation-error:0.153846\u001b[0m\n",
      "\u001b[31m[15:39:34] src/tree/updater_prune.cc:74: tree pruning end, 1 roots, 0 extra nodes, 14 pruned nodes, max_depth=0\u001b[0m\n",
      "\u001b[31m[37]#011train-error:0.168337#011validation-error:0.153846\u001b[0m\n",
      "\u001b[31m[15:39:34] src/tree/updater_prune.cc:74: tree pruning end, 1 roots, 4 extra nodes, 8 pruned nodes, max_depth=2\u001b[0m\n",
      "\u001b[31m[38]#011train-error:0.168337#011validation-error:0.153846\u001b[0m\n",
      "\u001b[31m[15:39:34] src/tree/updater_prune.cc:74: tree pruning end, 1 roots, 0 extra nodes, 14 pruned nodes, max_depth=0\u001b[0m\n",
      "\u001b[31m[39]#011train-error:0.172345#011validation-error:0.153846\u001b[0m\n",
      "\u001b[31m[15:39:34] src/tree/updater_prune.cc:74: tree pruning end, 1 roots, 0 extra nodes, 14 pruned nodes, max_depth=0\u001b[0m\n",
      "\u001b[31m[40]#011train-error:0.172345#011validation-error:0.153846\u001b[0m\n",
      "\u001b[31m[15:39:34] src/tree/updater_prune.cc:74: tree pruning end, 1 roots, 0 extra nodes, 12 pruned nodes, max_depth=0\u001b[0m\n",
      "\u001b[31m[41]#011train-error:0.168337#011validation-error:0.153846\u001b[0m\n",
      "\u001b[31m[15:39:34] src/tree/updater_prune.cc:74: tree pruning end, 1 roots, 0 extra nodes, 12 pruned nodes, max_depth=0\u001b[0m\n",
      "\u001b[31m[42]#011train-error:0.168337#011validation-error:0.153846\u001b[0m\n",
      "\u001b[31m[15:39:34] src/tree/updater_prune.cc:74: tree pruning end, 1 roots, 0 extra nodes, 14 pruned nodes, max_depth=0\u001b[0m\n",
      "\u001b[31m[43]#011train-error:0.172345#011validation-error:0.153846\u001b[0m\n",
      "\u001b[31m[15:39:34] src/tree/updater_prune.cc:74: tree pruning end, 1 roots, 0 extra nodes, 14 pruned nodes, max_depth=0\u001b[0m\n",
      "\u001b[31m[44]#011train-error:0.168337#011validation-error:0.153846\u001b[0m\n",
      "\u001b[31m[15:39:34] src/tree/updater_prune.cc:74: tree pruning end, 1 roots, 0 extra nodes, 12 pruned nodes, max_depth=0\u001b[0m\n",
      "\u001b[31m[45]#011train-error:0.168337#011validation-error:0.153846\u001b[0m\n",
      "\u001b[31m[15:39:34] src/tree/updater_prune.cc:74: tree pruning end, 1 roots, 0 extra nodes, 14 pruned nodes, max_depth=0\u001b[0m\n",
      "\u001b[31m[46]#011train-error:0.168337#011validation-error:0.153846\u001b[0m\n",
      "\u001b[31m[15:39:34] src/tree/updater_prune.cc:74: tree pruning end, 1 roots, 0 extra nodes, 12 pruned nodes, max_depth=0\u001b[0m\n",
      "\u001b[31m[47]#011train-error:0.168337#011validation-error:0.153846\u001b[0m\n",
      "\u001b[31m[15:39:34] src/tree/updater_prune.cc:74: tree pruning end, 1 roots, 0 extra nodes, 14 pruned nodes, max_depth=0\u001b[0m\n",
      "\u001b[31m[48]#011train-error:0.168337#011validation-error:0.153846\u001b[0m\n",
      "\u001b[31m[15:39:34] src/tree/updater_prune.cc:74: tree pruning end, 1 roots, 8 extra nodes, 4 pruned nodes, max_depth=4\u001b[0m\n",
      "\u001b[31m[49]#011train-error:0.180361#011validation-error:0.153846\u001b[0m\n",
      "\u001b[31m[15:39:34] src/tree/updater_prune.cc:74: tree pruning end, 1 roots, 0 extra nodes, 12 pruned nodes, max_depth=0\u001b[0m\n",
      "\u001b[31m[50]#011train-error:0.180361#011validation-error:0.153846\u001b[0m\n",
      "\u001b[31m[15:39:34] src/tree/updater_prune.cc:74: tree pruning end, 1 roots, 0 extra nodes, 12 pruned nodes, max_depth=0\u001b[0m\n",
      "\u001b[31m[51]#011train-error:0.180361#011validation-error:0.153846\u001b[0m\n",
      "\u001b[31m[15:39:34] src/tree/updater_prune.cc:74: tree pruning end, 1 roots, 0 extra nodes, 12 pruned nodes, max_depth=0\u001b[0m\n",
      "\u001b[31m[52]#011train-error:0.180361#011validation-error:0.153846\u001b[0m\n",
      "\u001b[31m[15:39:34] src/tree/updater_prune.cc:74: tree pruning end, 1 roots, 0 extra nodes, 12 pruned nodes, max_depth=0\u001b[0m\n",
      "\u001b[31m[53]#011train-error:0.180361#011validation-error:0.153846\u001b[0m\n",
      "\u001b[31m[15:39:34] src/tree/updater_prune.cc:74: tree pruning end, 1 roots, 0 extra nodes, 14 pruned nodes, max_depth=0\u001b[0m\n",
      "\u001b[31m[54]#011train-error:0.180361#011validation-error:0.153846\u001b[0m\n",
      "\u001b[31m[15:39:34] src/tree/updater_prune.cc:74: tree pruning end, 1 roots, 0 extra nodes, 12 pruned nodes, max_depth=0\u001b[0m\n",
      "\u001b[31m[55]#011train-error:0.180361#011validation-error:0.153846\u001b[0m\n",
      "\u001b[31m[15:39:34] src/tree/updater_prune.cc:74: tree pruning end, 1 roots, 4 extra nodes, 6 pruned nodes, max_depth=2\u001b[0m\n",
      "\u001b[31m[56]#011train-error:0.178357#011validation-error:0.153846\u001b[0m\n",
      "\u001b[31m[15:39:34] src/tree/updater_prune.cc:74: tree pruning end, 1 roots, 0 extra nodes, 14 pruned nodes, max_depth=0\u001b[0m\n",
      "\u001b[31m[57]#011train-error:0.178357#011validation-error:0.153846\u001b[0m\n",
      "\u001b[31m[15:39:34] src/tree/updater_prune.cc:74: tree pruning end, 1 roots, 0 extra nodes, 10 pruned nodes, max_depth=0\u001b[0m\n",
      "\u001b[31m[58]#011train-error:0.178357#011validation-error:0.153846\u001b[0m\n",
      "\u001b[31m[15:39:34] src/tree/updater_prune.cc:74: tree pruning end, 1 roots, 0 extra nodes, 14 pruned nodes, max_depth=0\u001b[0m\n",
      "\u001b[31m[59]#011train-error:0.178357#011validation-error:0.153846\u001b[0m\n",
      "\u001b[31m[15:39:34] src/tree/updater_prune.cc:74: tree pruning end, 1 roots, 0 extra nodes, 16 pruned nodes, max_depth=0\u001b[0m\n",
      "\u001b[31m[60]#011train-error:0.178357#011validation-error:0.153846\u001b[0m\n",
      "\u001b[31m[15:39:34] src/tree/updater_prune.cc:74: tree pruning end, 1 roots, 0 extra nodes, 12 pruned nodes, max_depth=0\u001b[0m\n",
      "\u001b[31m[61]#011train-error:0.178357#011validation-error:0.153846\u001b[0m\n",
      "\u001b[31m[15:39:34] src/tree/updater_prune.cc:74: tree pruning end, 1 roots, 0 extra nodes, 12 pruned nodes, max_depth=0\u001b[0m\n",
      "\u001b[31m[62]#011train-error:0.178357#011validation-error:0.153846\u001b[0m\n",
      "\u001b[31m[15:39:34] src/tree/updater_prune.cc:74: tree pruning end, 1 roots, 0 extra nodes, 10 pruned nodes, max_depth=0\u001b[0m\n",
      "\u001b[31m[63]#011train-error:0.178357#011validation-error:0.153846\u001b[0m\n",
      "\u001b[31m[15:39:34] src/tree/updater_prune.cc:74: tree pruning end, 1 roots, 0 extra nodes, 10 pruned nodes, max_depth=0\u001b[0m\n",
      "\u001b[31m[64]#011train-error:0.178357#011validation-error:0.153846\u001b[0m\n",
      "\u001b[31m[15:39:34] src/tree/updater_prune.cc:74: tree pruning end, 1 roots, 0 extra nodes, 12 pruned nodes, max_depth=0\u001b[0m\n",
      "\u001b[31m[65]#011train-error:0.178357#011validation-error:0.153846\u001b[0m\n",
      "\u001b[31m[15:39:34] src/tree/updater_prune.cc:74: tree pruning end, 1 roots, 0 extra nodes, 10 pruned nodes, max_depth=0\u001b[0m\n",
      "\u001b[31m[66]#011train-error:0.178357#011validation-error:0.153846\u001b[0m\n",
      "\u001b[31m[15:39:34] src/tree/updater_prune.cc:74: tree pruning end, 1 roots, 0 extra nodes, 14 pruned nodes, max_depth=0\u001b[0m\n",
      "\u001b[31m[67]#011train-error:0.178357#011validation-error:0.153846\u001b[0m\n",
      "\u001b[31m[15:39:34] src/tree/updater_prune.cc:74: tree pruning end, 1 roots, 0 extra nodes, 12 pruned nodes, max_depth=0\u001b[0m\n",
      "\u001b[31m[68]#011train-error:0.178357#011validation-error:0.153846\u001b[0m\n",
      "\u001b[31m[15:39:34] src/tree/updater_prune.cc:74: tree pruning end, 1 roots, 0 extra nodes, 12 pruned nodes, max_depth=0\u001b[0m\n",
      "\u001b[31m[69]#011train-error:0.178357#011validation-error:0.153846\u001b[0m\n",
      "\u001b[31m[15:39:34] src/tree/updater_prune.cc:74: tree pruning end, 1 roots, 0 extra nodes, 14 pruned nodes, max_depth=0\u001b[0m\n",
      "\u001b[31m[70]#011train-error:0.178357#011validation-error:0.153846\u001b[0m\n",
      "\u001b[31m[15:39:34] src/tree/updater_prune.cc:74: tree pruning end, 1 roots, 6 extra nodes, 8 pruned nodes, max_depth=3\u001b[0m\n",
      "\u001b[31m[71]#011train-error:0.168337#011validation-error:0.167832\u001b[0m\n",
      "\u001b[31m[15:39:34] src/tree/updater_prune.cc:74: tree pruning end, 1 roots, 4 extra nodes, 10 pruned nodes, max_depth=2\u001b[0m\n",
      "\u001b[31m[72]#011train-error:0.170341#011validation-error:0.167832\u001b[0m\n",
      "\u001b[31m[15:39:34] src/tree/updater_prune.cc:74: tree pruning end, 1 roots, 0 extra nodes, 16 pruned nodes, max_depth=0\u001b[0m\n",
      "\u001b[31m[73]#011train-error:0.166333#011validation-error:0.174825\u001b[0m\n",
      "\u001b[31m[15:39:34] src/tree/updater_prune.cc:74: tree pruning end, 1 roots, 0 extra nodes, 12 pruned nodes, max_depth=0\u001b[0m\n",
      "\u001b[31m[74]#011train-error:0.170341#011validation-error:0.167832\u001b[0m\n",
      "\u001b[31m[15:39:34] src/tree/updater_prune.cc:74: tree pruning end, 1 roots, 0 extra nodes, 12 pruned nodes, max_depth=0\u001b[0m\n",
      "\u001b[31m[75]#011train-error:0.172345#011validation-error:0.167832\u001b[0m\n",
      "\u001b[31m[15:39:34] src/tree/updater_prune.cc:74: tree pruning end, 1 roots, 0 extra nodes, 14 pruned nodes, max_depth=0\u001b[0m\n",
      "\u001b[31m[76]#011train-error:0.172345#011validation-error:0.167832\u001b[0m\n",
      "\u001b[31m[15:39:34] src/tree/updater_prune.cc:74: tree pruning end, 1 roots, 0 extra nodes, 12 pruned nodes, max_depth=0\u001b[0m\n",
      "\u001b[31m[77]#011train-error:0.172345#011validation-error:0.167832\u001b[0m\n",
      "\u001b[31m[15:39:34] src/tree/updater_prune.cc:74: tree pruning end, 1 roots, 0 extra nodes, 12 pruned nodes, max_depth=0\u001b[0m\n",
      "\u001b[31m[78]#011train-error:0.172345#011validation-error:0.167832\u001b[0m\n",
      "\u001b[31m[15:39:34] src/tree/updater_prune.cc:74: tree pruning end, 1 roots, 0 extra nodes, 10 pruned nodes, max_depth=0\u001b[0m\n",
      "\u001b[31m[79]#011train-error:0.172345#011validation-error:0.167832\u001b[0m\n",
      "\u001b[31m[15:39:34] src/tree/updater_prune.cc:74: tree pruning end, 1 roots, 0 extra nodes, 12 pruned nodes, max_depth=0\u001b[0m\n",
      "\u001b[31m[80]#011train-error:0.172345#011validation-error:0.167832\u001b[0m\n",
      "\u001b[31m[15:39:34] src/tree/updater_prune.cc:74: tree pruning end, 1 roots, 0 extra nodes, 12 pruned nodes, max_depth=0\u001b[0m\n",
      "\u001b[31m[81]#011train-error:0.172345#011validation-error:0.167832\u001b[0m\n",
      "\u001b[31m[15:39:34] src/tree/updater_prune.cc:74: tree pruning end, 1 roots, 0 extra nodes, 12 pruned nodes, max_depth=0\u001b[0m\n",
      "\u001b[31m[82]#011train-error:0.170341#011validation-error:0.167832\u001b[0m\n",
      "\u001b[31m[15:39:34] src/tree/updater_prune.cc:74: tree pruning end, 1 roots, 0 extra nodes, 14 pruned nodes, max_depth=0\u001b[0m\n",
      "\u001b[31m[83]#011train-error:0.166333#011validation-error:0.174825\u001b[0m\n",
      "\u001b[31m[15:39:34] src/tree/updater_prune.cc:74: tree pruning end, 1 roots, 0 extra nodes, 12 pruned nodes, max_depth=0\u001b[0m\n",
      "\u001b[31m[84]#011train-error:0.170341#011validation-error:0.167832\u001b[0m\n",
      "\u001b[31m[15:39:34] src/tree/updater_prune.cc:74: tree pruning end, 1 roots, 0 extra nodes, 10 pruned nodes, max_depth=0\u001b[0m\n",
      "\u001b[31m[85]#011train-error:0.168337#011validation-error:0.181818\u001b[0m\n",
      "\u001b[31m[15:39:34] src/tree/updater_prune.cc:74: tree pruning end, 1 roots, 0 extra nodes, 12 pruned nodes, max_depth=0\u001b[0m\n",
      "\u001b[31m[86]#011train-error:0.168337#011validation-error:0.181818\u001b[0m\n",
      "\u001b[31m[15:39:34] src/tree/updater_prune.cc:74: tree pruning end, 1 roots, 8 extra nodes, 6 pruned nodes, max_depth=4\u001b[0m\n",
      "\u001b[31m[87]#011train-error:0.162325#011validation-error:0.174825\u001b[0m\n",
      "\u001b[31m[15:39:34] src/tree/updater_prune.cc:74: tree pruning end, 1 roots, 0 extra nodes, 12 pruned nodes, max_depth=0\u001b[0m\n",
      "\u001b[31m[88]#011train-error:0.164329#011validation-error:0.174825\u001b[0m\n",
      "\u001b[31m[15:39:34] src/tree/updater_prune.cc:74: tree pruning end, 1 roots, 0 extra nodes, 10 pruned nodes, max_depth=0\u001b[0m\n",
      "\u001b[31m[89]#011train-error:0.162325#011validation-error:0.174825\u001b[0m\n",
      "\u001b[31m[15:39:34] src/tree/updater_prune.cc:74: tree pruning end, 1 roots, 0 extra nodes, 12 pruned nodes, max_depth=0\u001b[0m\n",
      "\u001b[31m[90]#011train-error:0.162325#011validation-error:0.174825\u001b[0m\n",
      "\u001b[31m[15:39:34] src/tree/updater_prune.cc:74: tree pruning end, 1 roots, 0 extra nodes, 12 pruned nodes, max_depth=0\u001b[0m\n",
      "\u001b[31m[91]#011train-error:0.162325#011validation-error:0.174825\u001b[0m\n",
      "\u001b[31m[15:39:34] src/tree/updater_prune.cc:74: tree pruning end, 1 roots, 0 extra nodes, 14 pruned nodes, max_depth=0\u001b[0m\n",
      "\u001b[31m[92]#011train-error:0.164329#011validation-error:0.167832\u001b[0m\n",
      "\u001b[31m[15:39:34] src/tree/updater_prune.cc:74: tree pruning end, 1 roots, 0 extra nodes, 16 pruned nodes, max_depth=0\u001b[0m\n",
      "\u001b[31m[93]#011train-error:0.164329#011validation-error:0.167832\u001b[0m\n",
      "\u001b[31m[15:39:34] src/tree/updater_prune.cc:74: tree pruning end, 1 roots, 0 extra nodes, 12 pruned nodes, max_depth=0\u001b[0m\n",
      "\u001b[31m[94]#011train-error:0.164329#011validation-error:0.167832\u001b[0m\n",
      "\u001b[31m[15:39:34] src/tree/updater_prune.cc:74: tree pruning end, 1 roots, 0 extra nodes, 12 pruned nodes, max_depth=0\u001b[0m\n",
      "\u001b[31m[95]#011train-error:0.164329#011validation-error:0.167832\u001b[0m\n",
      "\u001b[31m[15:39:34] src/tree/updater_prune.cc:74: tree pruning end, 1 roots, 0 extra nodes, 12 pruned nodes, max_depth=0\u001b[0m\n",
      "\u001b[31m[96]#011train-error:0.164329#011validation-error:0.167832\u001b[0m\n",
      "\u001b[31m[15:39:34] src/tree/updater_prune.cc:74: tree pruning end, 1 roots, 0 extra nodes, 10 pruned nodes, max_depth=0\u001b[0m\n",
      "\u001b[31m[97]#011train-error:0.164329#011validation-error:0.174825\u001b[0m\n",
      "\u001b[31m[15:39:34] src/tree/updater_prune.cc:74: tree pruning end, 1 roots, 2 extra nodes, 12 pruned nodes, max_depth=1\u001b[0m\n",
      "\u001b[31m[98]#011train-error:0.164329#011validation-error:0.174825\u001b[0m\n",
      "\u001b[31m[15:39:34] src/tree/updater_prune.cc:74: tree pruning end, 1 roots, 0 extra nodes, 14 pruned nodes, max_depth=0\u001b[0m\n",
      "\u001b[31m[99]#011train-error:0.164329#011validation-error:0.174825\u001b[0m\n",
      "Billable seconds: 49\n"
     ]
    }
   ],
   "source": [
    "from sagemaker.amazon.amazon_estimator import get_image_uri\n",
    "container = get_image_uri(boto3.Session().region_name, 'xgboost')\n",
    "\n",
    "s3_input_train = sagemaker.s3_input(s3_data='s3://{}/{}/train'.format(bucket, prefix), content_type='csv')\n",
    "s3_input_validation = sagemaker.s3_input(s3_data='s3://{}/{}/validation/'.format(bucket, prefix), content_type='csv')\n",
    "\n",
    "sess = sagemaker.Session()\n",
    "\n",
    "xgb = sagemaker.estimator.Estimator(container,\n",
    "                                    role, \n",
    "                                    train_instance_count=1, \n",
    "                                    train_instance_type='ml.m4.xlarge',\n",
    "                                    output_path='s3://{}/{}/output'.format(bucket, prefix),\n",
    "                                    sagemaker_session=sess)\n",
    "xgb.set_hyperparameters(max_depth=5,\n",
    "                        eta=0.2,\n",
    "                        gamma=4,\n",
    "                        min_child_weight=6,\n",
    "                        subsample=0.8,\n",
    "                        silent=0,\n",
    "                        objective='binary:logistic',\n",
    "                        num_round=100)\n",
    "\n",
    "xgb.fit({'train': s3_input_train, 'validation': s3_input_validation})"
   ]
  },
  {
   "cell_type": "markdown",
   "metadata": {},
   "source": [
    "### Accuracy and Fairness of the model <a class=\"anchor\" id=\"performance_linear_model\">\n",
    "Now that we've trained our model, we can deploy it behind an Amazon SageMaker real-time hosted endpoint.  This will allow out to make predictions (or inference) from the model dyanamically."
   ]
  },
  {
   "cell_type": "code",
   "execution_count": 11,
   "metadata": {},
   "outputs": [
    {
     "name": "stdout",
     "output_type": "stream",
     "text": [
      "---------------------------------------------------------------------------------------------------!"
     ]
    }
   ],
   "source": [
    "xgb_predictor = xgb.deploy(initial_instance_count=1,\n",
    "                           instance_type='ml.m4.xlarge')"
   ]
  },
  {
   "cell_type": "code",
   "execution_count": 12,
   "metadata": {},
   "outputs": [],
   "source": [
    "from sagemaker.predictor import csv_serializer\n",
    "xgb_predictor.content_type = 'text/csv'\n",
    "xgb_predictor.serializer = csv_serializer\n",
    "xgb_predictor.deserializer = None"
   ]
  },
  {
   "cell_type": "code",
   "execution_count": 13,
   "metadata": {},
   "outputs": [
    {
     "name": "stderr",
     "output_type": "stream",
     "text": [
      "/home/ec2-user/anaconda3/envs/python3/lib/python3.6/site-packages/ipykernel/__main__.py:9: FutureWarning: Method .as_matrix will be removed in a future version. Use .values instead.\n"
     ]
    }
   ],
   "source": [
    "def predict(data, rows=len(test_data)):\n",
    "    split_array = np.array_split(data, int(data.shape[0] / float(rows) + 1))\n",
    "    predictions = ''\n",
    "    for array in split_array:\n",
    "        predictions = ','.join([predictions, xgb_predictor.predict(array).decode('utf-8')])\n",
    "\n",
    "    return np.fromstring(predictions[1:], sep=',')\n",
    "\n",
    "predictions = predict(test_data.as_matrix()[:, 1:])"
   ]
  },
  {
   "cell_type": "code",
   "execution_count": 14,
   "metadata": {},
   "outputs": [
    {
     "data": {
      "text/html": [
       "<div>\n",
       "<style scoped>\n",
       "    .dataframe tbody tr th:only-of-type {\n",
       "        vertical-align: middle;\n",
       "    }\n",
       "\n",
       "    .dataframe tbody tr th {\n",
       "        vertical-align: top;\n",
       "    }\n",
       "\n",
       "    .dataframe thead th {\n",
       "        text-align: right;\n",
       "    }\n",
       "</style>\n",
       "<table border=\"1\" class=\"dataframe\">\n",
       "  <thead>\n",
       "    <tr style=\"text-align: right;\">\n",
       "      <th>predictions</th>\n",
       "      <th>0.0</th>\n",
       "      <th>1.0</th>\n",
       "    </tr>\n",
       "    <tr>\n",
       "      <th>actual</th>\n",
       "      <th></th>\n",
       "      <th></th>\n",
       "    </tr>\n",
       "  </thead>\n",
       "  <tbody>\n",
       "    <tr>\n",
       "      <th>0</th>\n",
       "      <td>37</td>\n",
       "      <td>8</td>\n",
       "    </tr>\n",
       "    <tr>\n",
       "      <th>1</th>\n",
       "      <td>7</td>\n",
       "      <td>20</td>\n",
       "    </tr>\n",
       "  </tbody>\n",
       "</table>\n",
       "</div>"
      ],
      "text/plain": [
       "predictions  0.0  1.0\n",
       "actual               \n",
       "0             37    8\n",
       "1              7   20"
      ]
     },
     "execution_count": 14,
     "metadata": {},
     "output_type": "execute_result"
    }
   ],
   "source": [
    "pd.crosstab(index=test_data.iloc[:, 0], columns=np.round(predictions), rownames=['actual'], colnames=['predictions'])"
   ]
  },
  {
   "cell_type": "markdown",
   "metadata": {},
   "source": [
    "Accuracy and precision calculation\n",
    "AC=TN+TP/TN+FP+FN+TP"
   ]
  },
  {
   "cell_type": "code",
   "execution_count": 39,
   "metadata": {},
   "outputs": [
    {
     "name": "stdout",
     "output_type": "stream",
     "text": [
      "72.54054054054055\n"
     ]
    }
   ],
   "source": [
    "Accuracy=37+20/37+20+15\n",
    "print(Accuracy)"
   ]
  },
  {
   "cell_type": "markdown",
   "metadata": {},
   "source": [
    "To get a rough intuition here, let's look at the continuous values of our predictions."
   ]
  },
  {
   "cell_type": "code",
   "execution_count": 21,
   "metadata": {},
   "outputs": [
    {
     "data": {
      "image/png": "[encoded data removed]",
      "text/plain": [
       "<Figure size 432x288 with 1 Axes>"
      ]
     },
     "metadata": {},
     "output_type": "display_data"
    }
   ],
   "source": [
    "plt.hist(predictions)\n",
    "plt.show()"
   ]
  },
  {
   "cell_type": "markdown",
   "metadata": {},
   "source": [
    "Lets consider people going to survive if their chances of living are more in histogram mentioned above. We can decide and make confusion matrix accordingly."
   ]
  },
  {
   "cell_type": "code",
   "execution_count": 30,
   "metadata": {},
   "outputs": [
    {
     "data": {
      "text/html": [
       "<div>\n",
       "<style scoped>\n",
       "    .dataframe tbody tr th:only-of-type {\n",
       "        vertical-align: middle;\n",
       "    }\n",
       "\n",
       "    .dataframe tbody tr th {\n",
       "        vertical-align: top;\n",
       "    }\n",
       "\n",
       "    .dataframe thead th {\n",
       "        text-align: right;\n",
       "    }\n",
       "</style>\n",
       "<table border=\"1\" class=\"dataframe\">\n",
       "  <thead>\n",
       "    <tr style=\"text-align: right;\">\n",
       "      <th>col_0</th>\n",
       "      <th>0</th>\n",
       "      <th>1</th>\n",
       "    </tr>\n",
       "    <tr>\n",
       "      <th>Survived</th>\n",
       "      <th></th>\n",
       "      <th></th>\n",
       "    </tr>\n",
       "  </thead>\n",
       "  <tbody>\n",
       "    <tr>\n",
       "      <th>0</th>\n",
       "      <td>43</td>\n",
       "      <td>2</td>\n",
       "    </tr>\n",
       "    <tr>\n",
       "      <th>1</th>\n",
       "      <td>12</td>\n",
       "      <td>15</td>\n",
       "    </tr>\n",
       "  </tbody>\n",
       "</table>\n",
       "</div>"
      ],
      "text/plain": [
       "col_0      0   1\n",
       "Survived        \n",
       "0         43   2\n",
       "1         12  15"
      ]
     },
     "execution_count": 30,
     "metadata": {},
     "output_type": "execute_result"
    }
   ],
   "source": [
    "pd.crosstab(index=test_data.iloc[:, 0], columns=np.where(predictions > 0.6, 1, 0))"
   ]
  },
  {
   "cell_type": "code",
   "execution_count": 16,
   "metadata": {},
   "outputs": [
    {
     "data": {
      "text/plain": [
       "0.8440329218106996"
      ]
     },
     "execution_count": 16,
     "metadata": {},
     "output_type": "execute_result"
    }
   ],
   "source": [
    "import numpy as np\n",
    "from sklearn.metrics import roc_auc_score\n",
    "\n",
    "roc_auc_score(test_data['Survived'], predictions)"
   ]
  },
  {
   "cell_type": "code",
   "execution_count": 17,
   "metadata": {},
   "outputs": [
    {
     "data": {
      "text/plain": [
       "0.7272727272727273"
      ]
     },
     "execution_count": 17,
     "metadata": {},
     "output_type": "execute_result"
    }
   ],
   "source": [
    "from sklearn.metrics import f1_score\n",
    "\n",
    "f1_score(test_data[\"Survived\"], np.round(predictions))"
   ]
  },
  {
   "cell_type": "code",
   "execution_count": 18,
   "metadata": {},
   "outputs": [
    {
     "data": {
      "text/plain": [
       "0.7142857142857143"
      ]
     },
     "execution_count": 18,
     "metadata": {},
     "output_type": "execute_result"
    }
   ],
   "source": [
    "from sklearn.metrics import precision_score\n",
    "\n",
    "precision_score(test_data[\"Survived\"], np.round(predictions))"
   ]
  },
  {
   "cell_type": "code",
   "execution_count": 19,
   "metadata": {},
   "outputs": [
    {
     "data": {
      "text/plain": [
       "0.7407407407407407"
      ]
     },
     "execution_count": 19,
     "metadata": {},
     "output_type": "execute_result"
    }
   ],
   "source": [
    "from sklearn.metrics import recall_score\n",
    "\n",
    "recall_score(test_data[\"Survived\"], np.round(predictions))"
   ]
  },
  {
   "cell_type": "markdown",
   "metadata": {},
   "source": [
    "Setup Hyperparameter Tuning"
   ]
  },
  {
   "cell_type": "code",
   "execution_count": 24,
   "metadata": {},
   "outputs": [],
   "source": [
    "from sagemaker.tuner import IntegerParameter, CategoricalParameter, ContinuousParameter, HyperparameterTuner\n",
    "from sagemaker.amazon.amazon_estimator import get_image_uri\n",
    "\n",
    "xgb = sagemaker.estimator.Estimator(\n",
    "    container,\n",
    "    role, \n",
    "    train_instance_count=1, \n",
    "    train_instance_type='ml.m4.xlarge',\n",
    "    output_path='s3://{}/{}/output'.format(bucket, prefix),\n",
    "    sagemaker_session=sess\n",
    ")\n",
    "\n",
    "xgb.set_hyperparameters(\n",
    "    eval_metric='auc',\n",
    "    objective='binary:logistic',\n",
    "    num_round=100,\n",
    "    rate_drop=0.3,\n",
    "    tweedie_variance_power=1.4\n",
    ")\n",
    "objective_metric_name = 'validation:auc'"
   ]
  },
  {
   "cell_type": "markdown",
   "metadata": {},
   "source": [
    "Logarithmic scaling"
   ]
  },
  {
   "cell_type": "code",
   "execution_count": 25,
   "metadata": {},
   "outputs": [],
   "source": [
    "hyperparameter_ranges = {\n",
    "    'alpha': ContinuousParameter(0.01, 10, scaling_type=\"Logarithmic\"),\n",
    "    'lambda': ContinuousParameter(0.01, 10, scaling_type=\"Logarithmic\")\n",
    "}"
   ]
  },
  {
   "cell_type": "markdown",
   "metadata": {},
   "source": [
    "Random search"
   ]
  },
  {
   "cell_type": "code",
   "execution_count": 26,
   "metadata": {},
   "outputs": [],
   "source": [
    "tuner_log = HyperparameterTuner(\n",
    "    xgb,\n",
    "    objective_metric_name,\n",
    "    hyperparameter_ranges,\n",
    "    max_jobs=20,\n",
    "    max_parallel_jobs=10,\n",
    "    strategy='Random'\n",
    ")\n",
    "\n",
    "tuner_log.fit({'train': s3_input_train, 'validation': s3_input_validation}, include_cls_metadata=False)"
   ]
  },
  {
   "cell_type": "code",
   "execution_count": 27,
   "metadata": {},
   "outputs": [
    {
     "data": {
      "text/plain": [
       "'InProgress'"
      ]
     },
     "execution_count": 27,
     "metadata": {},
     "output_type": "execute_result"
    }
   ],
   "source": [
    "boto3.client('sagemaker').describe_hyper_parameter_tuning_job(\n",
    "    HyperParameterTuningJobName=tuner_log.latest_tuning_job.job_name)['HyperParameterTuningJobStatus']"
   ]
  },
  {
   "cell_type": "code",
   "execution_count": 31,
   "metadata": {},
   "outputs": [
    {
     "name": "stdout",
     "output_type": "stream",
     "text": [
      "2019-07-10 17:45:52 Starting - Preparing the instances for training\n",
      "2019-07-10 17:45:52 Downloading - Downloading input data\n",
      "2019-07-10 17:45:52 Training - Training image download completed. Training in progress.\n",
      "2019-07-10 17:45:52 Uploading - Uploading generated training model\n",
      "2019-07-10 17:45:52 Completed - Training job completed\u001b[31mArguments: train\u001b[0m\n",
      "\u001b[31m[2019-07-10:17:45:41:INFO] Running standalone xgboost training.\u001b[0m\n",
      "\u001b[31m[2019-07-10:17:45:41:INFO] Setting up HPO optimized metric to be : auc\u001b[0m\n",
      "\u001b[31m[2019-07-10:17:45:41:INFO] File size need to be processed in the node: 0.02mb. Available memory size in the node: 8459.8mb\u001b[0m\n",
      "\u001b[31m[2019-07-10:17:45:41:INFO] Determined delimiter of CSV input is ','\u001b[0m\n",
      "\u001b[31m[17:45:41] S3DistributionType set as FullyReplicated\u001b[0m\n",
      "\u001b[31m[17:45:41] 499x10 matrix with 4990 entries loaded from /opt/ml/input/data/train?format=csv&label_column=0&delimiter=,\u001b[0m\n",
      "\u001b[31m[2019-07-10:17:45:41:INFO] Determined delimiter of CSV input is ','\u001b[0m\n",
      "\u001b[31m[17:45:41] S3DistributionType set as FullyReplicated\u001b[0m\n",
      "\u001b[31m[17:45:41] 143x10 matrix with 1430 entries loaded from /opt/ml/input/data/validation?format=csv&label_column=0&delimiter=,\u001b[0m\n",
      "\u001b[31m[17:45:41] src/tree/updater_prune.cc:74: tree pruning end, 1 roots, 26 extra nodes, 0 pruned nodes, max_depth=6\u001b[0m\n",
      "\u001b[31m[0]#011train-auc:0.879154#011validation-auc:0.899939\u001b[0m\n",
      "\u001b[31m[17:45:41] src/tree/updater_prune.cc:74: tree pruning end, 1 roots, 24 extra nodes, 0 pruned nodes, max_depth=5\u001b[0m\n",
      "\u001b[31m[1]#011train-auc:0.880621#011validation-auc:0.904835\u001b[0m\n",
      "\u001b[31m[17:45:41] src/tree/updater_prune.cc:74: tree pruning end, 1 roots, 26 extra nodes, 0 pruned nodes, max_depth=6\u001b[0m\n",
      "\u001b[31m[2]#011train-auc:0.882567#011validation-auc:0.900959\u001b[0m\n",
      "\u001b[31m[17:45:41] src/tree/updater_prune.cc:74: tree pruning end, 1 roots, 22 extra nodes, 0 pruned nodes, max_depth=6\u001b[0m\n",
      "\u001b[31m[3]#011train-auc:0.884174#011validation-auc:0.901979\u001b[0m\n",
      "\u001b[31m[17:45:41] src/tree/updater_prune.cc:74: tree pruning end, 1 roots, 30 extra nodes, 0 pruned nodes, max_depth=6\u001b[0m\n",
      "\u001b[31m[4]#011train-auc:0.887852#011validation-auc:0.898919\u001b[0m\n",
      "\u001b[31m[17:45:41] src/tree/updater_prune.cc:74: tree pruning end, 1 roots, 24 extra nodes, 0 pruned nodes, max_depth=6\u001b[0m\n",
      "\u001b[31m[5]#011train-auc:0.889087#011validation-auc:0.900041\u001b[0m\n",
      "\u001b[31m[17:45:41] src/tree/updater_prune.cc:74: tree pruning end, 1 roots, 32 extra nodes, 0 pruned nodes, max_depth=6\u001b[0m\n",
      "\u001b[31m[6]#011train-auc:0.894322#011validation-auc:0.896267\u001b[0m\n",
      "\u001b[31m[17:45:41] src/tree/updater_prune.cc:74: tree pruning end, 1 roots, 38 extra nodes, 0 pruned nodes, max_depth=6\u001b[0m\n",
      "\u001b[31m[7]#011train-auc:0.903642#011validation-auc:0.891983\u001b[0m\n",
      "\u001b[31m[17:45:41] src/tree/updater_prune.cc:74: tree pruning end, 1 roots, 30 extra nodes, 0 pruned nodes, max_depth=6\u001b[0m\n",
      "\u001b[31m[8]#011train-auc:0.905257#011validation-auc:0.888005\u001b[0m\n",
      "\u001b[31m[17:45:41] src/tree/updater_prune.cc:74: tree pruning end, 1 roots, 24 extra nodes, 0 pruned nodes, max_depth=6\u001b[0m\n",
      "\u001b[31m[9]#011train-auc:0.91234#011validation-auc:0.897389\u001b[0m\n",
      "\u001b[31m[17:45:41] src/tree/updater_prune.cc:74: tree pruning end, 1 roots, 14 extra nodes, 0 pruned nodes, max_depth=4\u001b[0m\n",
      "\u001b[31m[10]#011train-auc:0.91152#011validation-auc:0.896369\u001b[0m\n",
      "\u001b[31m[17:45:41] src/tree/updater_prune.cc:74: tree pruning end, 1 roots, 24 extra nodes, 0 pruned nodes, max_depth=5\u001b[0m\n",
      "\u001b[31m[11]#011train-auc:0.912232#011validation-auc:0.895553\u001b[0m\n",
      "\u001b[31m[17:45:41] src/tree/updater_prune.cc:74: tree pruning end, 1 roots, 28 extra nodes, 0 pruned nodes, max_depth=6\u001b[0m\n",
      "\u001b[31m[12]#011train-auc:0.917675#011validation-auc:0.897389\u001b[0m\n",
      "\u001b[31m[17:45:41] src/tree/updater_prune.cc:74: tree pruning end, 1 roots, 28 extra nodes, 0 pruned nodes, max_depth=6\u001b[0m\n",
      "\u001b[31m[13]#011train-auc:0.918519#011validation-auc:0.898205\u001b[0m\n",
      "\u001b[31m[17:45:41] src/tree/updater_prune.cc:74: tree pruning end, 1 roots, 34 extra nodes, 0 pruned nodes, max_depth=6\u001b[0m\n",
      "\u001b[31m[14]#011train-auc:0.921402#011validation-auc:0.899225\u001b[0m\n",
      "\u001b[31m[17:45:41] src/tree/updater_prune.cc:74: tree pruning end, 1 roots, 22 extra nodes, 0 pruned nodes, max_depth=6\u001b[0m\n",
      "\u001b[31m[15]#011train-auc:0.923067#011validation-auc:0.898307\u001b[0m\n",
      "\u001b[31m[17:45:41] src/tree/updater_prune.cc:74: tree pruning end, 1 roots, 24 extra nodes, 0 pruned nodes, max_depth=6\u001b[0m\n",
      "\u001b[31m[16]#011train-auc:0.92455#011validation-auc:0.898511\u001b[0m\n",
      "\u001b[31m[17:45:41] src/tree/updater_prune.cc:74: tree pruning end, 1 roots, 28 extra nodes, 0 pruned nodes, max_depth=6\u001b[0m\n",
      "\u001b[31m[17]#011train-auc:0.927367#011validation-auc:0.900041\u001b[0m\n",
      "\u001b[31m[17:45:41] src/tree/updater_prune.cc:74: tree pruning end, 1 roots, 22 extra nodes, 0 pruned nodes, max_depth=5\u001b[0m\n",
      "\u001b[31m[18]#011train-auc:0.928477#011validation-auc:0.902795\u001b[0m\n",
      "\u001b[31m[17:45:41] src/tree/updater_prune.cc:74: tree pruning end, 1 roots, 26 extra nodes, 0 pruned nodes, max_depth=6\u001b[0m\n",
      "\u001b[31m[19]#011train-auc:0.928833#011validation-auc:0.902183\u001b[0m\n",
      "\u001b[31m[17:45:41] src/tree/updater_prune.cc:74: tree pruning end, 1 roots, 26 extra nodes, 0 pruned nodes, max_depth=6\u001b[0m\n",
      "\u001b[31m[20]#011train-auc:0.929868#011validation-auc:0.901673\u001b[0m\n",
      "\u001b[31m[17:45:41] src/tree/updater_prune.cc:74: tree pruning end, 1 roots, 26 extra nodes, 0 pruned nodes, max_depth=6\u001b[0m\n",
      "\u001b[31m[21]#011train-auc:0.930034#011validation-auc:0.899735\u001b[0m\n",
      "\u001b[31m[17:45:41] src/tree/updater_prune.cc:74: tree pruning end, 1 roots, 26 extra nodes, 0 pruned nodes, max_depth=6\u001b[0m\n",
      "\u001b[31m[22]#011train-auc:0.931376#011validation-auc:0.901367\u001b[0m\n",
      "\u001b[31m[17:45:41] src/tree/updater_prune.cc:74: tree pruning end, 1 roots, 30 extra nodes, 0 pruned nodes, max_depth=6\u001b[0m\n",
      "\u001b[31m[23]#011train-auc:0.933091#011validation-auc:0.901163\u001b[0m\n",
      "\u001b[31m[17:45:41] src/tree/updater_prune.cc:74: tree pruning end, 1 roots, 22 extra nodes, 0 pruned nodes, max_depth=6\u001b[0m\n",
      "\u001b[31m[24]#011train-auc:0.933538#011validation-auc:0.899123\u001b[0m\n",
      "\u001b[31m[17:45:41] src/tree/updater_prune.cc:74: tree pruning end, 1 roots, 24 extra nodes, 0 pruned nodes, max_depth=6\u001b[0m\n",
      "\u001b[31m[25]#011train-auc:0.934657#011validation-auc:0.899939\u001b[0m\n",
      "\u001b[31m[17:45:41] src/tree/updater_prune.cc:74: tree pruning end, 1 roots, 20 extra nodes, 0 pruned nodes, max_depth=6\u001b[0m\n",
      "\u001b[31m[26]#011train-auc:0.935733#011validation-auc:0.900347\u001b[0m\n",
      "\u001b[31m[17:45:41] src/tree/updater_prune.cc:74: tree pruning end, 1 roots, 34 extra nodes, 0 pruned nodes, max_depth=6\u001b[0m\n",
      "\u001b[31m[27]#011train-auc:0.937564#011validation-auc:0.904937\u001b[0m\n",
      "\u001b[31m[17:45:41] src/tree/updater_prune.cc:74: tree pruning end, 1 roots, 20 extra nodes, 0 pruned nodes, max_depth=5\u001b[0m\n",
      "\u001b[31m[28]#011train-auc:0.93768#011validation-auc:0.903509\u001b[0m\n",
      "\u001b[31m[17:45:41] src/tree/updater_prune.cc:74: tree pruning end, 1 roots, 0 extra nodes, 0 pruned nodes, max_depth=0\u001b[0m\n",
      "\u001b[31m[29]#011train-auc:0.93768#011validation-auc:0.903509\u001b[0m\n",
      "\u001b[31m[17:45:41] src/tree/updater_prune.cc:74: tree pruning end, 1 roots, 0 extra nodes, 0 pruned nodes, max_depth=0\u001b[0m\n",
      "\u001b[31m[30]#011train-auc:0.93768#011validation-auc:0.903509\u001b[0m\n",
      "\u001b[31m[17:45:41] src/tree/updater_prune.cc:74: tree pruning end, 1 roots, 0 extra nodes, 0 pruned nodes, max_depth=0\u001b[0m\n",
      "\u001b[31m[31]#011train-auc:0.93768#011validation-auc:0.903509\u001b[0m\n",
      "\u001b[31m[17:45:41] src/tree/updater_prune.cc:74: tree pruning end, 1 roots, 0 extra nodes, 0 pruned nodes, max_depth=0\u001b[0m\n",
      "\u001b[31m[32]#011train-auc:0.93768#011validation-auc:0.903509\u001b[0m\n",
      "\u001b[31m[17:45:41] src/tree/updater_prune.cc:74: tree pruning end, 1 roots, 0 extra nodes, 0 pruned nodes, max_depth=0\u001b[0m\n",
      "\u001b[31m[33]#011train-auc:0.93768#011validation-auc:0.903509\u001b[0m\n",
      "\u001b[31m[17:45:41] src/tree/updater_prune.cc:74: tree pruning end, 1 roots, 0 extra nodes, 0 pruned nodes, max_depth=0\u001b[0m\n",
      "\u001b[31m[34]#011train-auc:0.93768#011validation-auc:0.903509\u001b[0m\n",
      "\u001b[31m[17:45:41] src/tree/updater_prune.cc:74: tree pruning end, 1 roots, 0 extra nodes, 0 pruned nodes, max_depth=0\u001b[0m\n",
      "\u001b[31m[35]#011train-auc:0.93768#011validation-auc:0.903509\u001b[0m\n",
      "\u001b[31m[17:45:41] src/tree/updater_prune.cc:74: tree pruning end, 1 roots, 0 extra nodes, 0 pruned nodes, max_depth=0\u001b[0m\n",
      "\u001b[31m[36]#011train-auc:0.93768#011validation-auc:0.903509\u001b[0m\n",
      "\u001b[31m[17:45:41] src/tree/updater_prune.cc:74: tree pruning end, 1 roots, 0 extra nodes, 0 pruned nodes, max_depth=0\u001b[0m\n",
      "\u001b[31m[37]#011train-auc:0.93768#011validation-auc:0.903509\u001b[0m\n",
      "\u001b[31m[17:45:41] src/tree/updater_prune.cc:74: tree pruning end, 1 roots, 0 extra nodes, 0 pruned nodes, max_depth=0\u001b[0m\n",
      "\u001b[31m[38]#011train-auc:0.93768#011validation-auc:0.903509\u001b[0m\n",
      "\u001b[31m[17:45:41] src/tree/updater_prune.cc:74: tree pruning end, 1 roots, 0 extra nodes, 0 pruned nodes, max_depth=0\u001b[0m\n",
      "\u001b[31m[39]#011train-auc:0.93768#011validation-auc:0.903509\u001b[0m\n",
      "\u001b[31m[17:45:41] src/tree/updater_prune.cc:74: tree pruning end, 1 roots, 0 extra nodes, 0 pruned nodes, max_depth=0\u001b[0m\n",
      "\u001b[31m[40]#011train-auc:0.93768#011validation-auc:0.903509\u001b[0m\n",
      "\u001b[31m[17:45:41] src/tree/updater_prune.cc:74: tree pruning end, 1 roots, 0 extra nodes, 0 pruned nodes, max_depth=0\u001b[0m\n",
      "\u001b[31m[41]#011train-auc:0.93768#011validation-auc:0.903509\u001b[0m\n",
      "\u001b[31m[17:45:41] src/tree/updater_prune.cc:74: tree pruning end, 1 roots, 0 extra nodes, 0 pruned nodes, max_depth=0\u001b[0m\n",
      "\u001b[31m[42]#011train-auc:0.93768#011validation-auc:0.903509\u001b[0m\n",
      "\u001b[31m[17:45:41] src/tree/updater_prune.cc:74: tree pruning end, 1 roots, 0 extra nodes, 0 pruned nodes, max_depth=0\u001b[0m\n",
      "\u001b[31m[43]#011train-auc:0.93768#011validation-auc:0.903509\u001b[0m\n",
      "\u001b[31m[17:45:41] src/tree/updater_prune.cc:74: tree pruning end, 1 roots, 0 extra nodes, 0 pruned nodes, max_depth=0\u001b[0m\n",
      "\u001b[31m[44]#011train-auc:0.93768#011validation-auc:0.903509\u001b[0m\n",
      "\u001b[31m[17:45:41] src/tree/updater_prune.cc:74: tree pruning end, 1 roots, 0 extra nodes, 0 pruned nodes, max_depth=0\u001b[0m\n",
      "\u001b[31m[45]#011train-auc:0.93768#011validation-auc:0.903509\u001b[0m\n",
      "\u001b[31m[17:45:41] src/tree/updater_prune.cc:74: tree pruning end, 1 roots, 0 extra nodes, 0 pruned nodes, max_depth=0\u001b[0m\n",
      "\u001b[31m[46]#011train-auc:0.93768#011validation-auc:0.903509\u001b[0m\n",
      "\u001b[31m[17:45:41] src/tree/updater_prune.cc:74: tree pruning end, 1 roots, 0 extra nodes, 0 pruned nodes, max_depth=0\u001b[0m\n",
      "\u001b[31m[47]#011train-auc:0.93768#011validation-auc:0.903509\u001b[0m\n",
      "\u001b[31m[17:45:41] src/tree/updater_prune.cc:74: tree pruning end, 1 roots, 0 extra nodes, 0 pruned nodes, max_depth=0\u001b[0m\n",
      "\u001b[31m[48]#011train-auc:0.93768#011validation-auc:0.903509\u001b[0m\n",
      "\u001b[31m[17:45:41] src/tree/updater_prune.cc:74: tree pruning end, 1 roots, 0 extra nodes, 0 pruned nodes, max_depth=0\u001b[0m\n",
      "\u001b[31m[49]#011train-auc:0.93768#011validation-auc:0.903509\u001b[0m\n",
      "\u001b[31m[17:45:41] src/tree/updater_prune.cc:74: tree pruning end, 1 roots, 0 extra nodes, 0 pruned nodes, max_depth=0\u001b[0m\n",
      "\u001b[31m[50]#011train-auc:0.93768#011validation-auc:0.903509\u001b[0m\n",
      "\u001b[31m[17:45:41] src/tree/updater_prune.cc:74: tree pruning end, 1 roots, 0 extra nodes, 0 pruned nodes, max_depth=0\u001b[0m\n",
      "\u001b[31m[51]#011train-auc:0.93768#011validation-auc:0.903509\u001b[0m\n",
      "\u001b[31m[17:45:41] src/tree/updater_prune.cc:74: tree pruning end, 1 roots, 0 extra nodes, 0 pruned nodes, max_depth=0\u001b[0m\n",
      "\u001b[31m[52]#011train-auc:0.93768#011validation-auc:0.903509\u001b[0m\n",
      "\u001b[31m[17:45:41] src/tree/updater_prune.cc:74: tree pruning end, 1 roots, 0 extra nodes, 0 pruned nodes, max_depth=0\u001b[0m\n",
      "\u001b[31m[53]#011train-auc:0.93768#011validation-auc:0.903509\u001b[0m\n",
      "\u001b[31m[17:45:41] src/tree/updater_prune.cc:74: tree pruning end, 1 roots, 0 extra nodes, 0 pruned nodes, max_depth=0\u001b[0m\n",
      "\u001b[31m[54]#011train-auc:0.93768#011validation-auc:0.903509\u001b[0m\n",
      "\u001b[31m[17:45:41] src/tree/updater_prune.cc:74: tree pruning end, 1 roots, 0 extra nodes, 0 pruned nodes, max_depth=0\u001b[0m\n",
      "\u001b[31m[55]#011train-auc:0.93768#011validation-auc:0.903509\u001b[0m\n",
      "\u001b[31m[17:45:41] src/tree/updater_prune.cc:74: tree pruning end, 1 roots, 0 extra nodes, 0 pruned nodes, max_depth=0\u001b[0m\n",
      "\u001b[31m[56]#011train-auc:0.93768#011validation-auc:0.903509\u001b[0m\n",
      "\u001b[31m[17:45:41] src/tree/updater_prune.cc:74: tree pruning end, 1 roots, 0 extra nodes, 0 pruned nodes, max_depth=0\u001b[0m\n",
      "\u001b[31m[57]#011train-auc:0.93768#011validation-auc:0.903509\u001b[0m\n",
      "\u001b[31m[17:45:41] src/tree/updater_prune.cc:74: tree pruning end, 1 roots, 0 extra nodes, 0 pruned nodes, max_depth=0\u001b[0m\n",
      "\u001b[31m[58]#011train-auc:0.93768#011validation-auc:0.903509\u001b[0m\n",
      "\u001b[31m[17:45:41] src/tree/updater_prune.cc:74: tree pruning end, 1 roots, 0 extra nodes, 0 pruned nodes, max_depth=0\u001b[0m\n",
      "\u001b[31m[59]#011train-auc:0.93768#011validation-auc:0.903509\u001b[0m\n",
      "\u001b[31m[17:45:41] src/tree/updater_prune.cc:74: tree pruning end, 1 roots, 0 extra nodes, 0 pruned nodes, max_depth=0\u001b[0m\n",
      "\u001b[31m[60]#011train-auc:0.93768#011validation-auc:0.903509\u001b[0m\n",
      "\u001b[31m[17:45:41] src/tree/updater_prune.cc:74: tree pruning end, 1 roots, 0 extra nodes, 0 pruned nodes, max_depth=0\u001b[0m\n",
      "\u001b[31m[61]#011train-auc:0.93768#011validation-auc:0.903509\u001b[0m\n",
      "\u001b[31m[17:45:41] src/tree/updater_prune.cc:74: tree pruning end, 1 roots, 0 extra nodes, 0 pruned nodes, max_depth=0\u001b[0m\n",
      "\u001b[31m[62]#011train-auc:0.93768#011validation-auc:0.903509\u001b[0m\n",
      "\u001b[31m[17:45:41] src/tree/updater_prune.cc:74: tree pruning end, 1 roots, 0 extra nodes, 0 pruned nodes, max_depth=0\u001b[0m\n",
      "\u001b[31m[63]#011train-auc:0.93768#011validation-auc:0.903509\u001b[0m\n",
      "\u001b[31m[17:45:41] src/tree/updater_prune.cc:74: tree pruning end, 1 roots, 0 extra nodes, 0 pruned nodes, max_depth=0\u001b[0m\n",
      "\u001b[31m[64]#011train-auc:0.93768#011validation-auc:0.903509\u001b[0m\n",
      "\u001b[31m[17:45:41] src/tree/updater_prune.cc:74: tree pruning end, 1 roots, 0 extra nodes, 0 pruned nodes, max_depth=0\u001b[0m\n",
      "\u001b[31m[65]#011train-auc:0.93768#011validation-auc:0.903509\u001b[0m\n",
      "\u001b[31m[17:45:41] src/tree/updater_prune.cc:74: tree pruning end, 1 roots, 0 extra nodes, 0 pruned nodes, max_depth=0\u001b[0m\n",
      "\u001b[31m[66]#011train-auc:0.93768#011validation-auc:0.903509\u001b[0m\n",
      "\u001b[31m[17:45:41] src/tree/updater_prune.cc:74: tree pruning end, 1 roots, 0 extra nodes, 0 pruned nodes, max_depth=0\u001b[0m\n",
      "\u001b[31m[67]#011train-auc:0.93768#011validation-auc:0.903509\u001b[0m\n",
      "\u001b[31m[17:45:41] src/tree/updater_prune.cc:74: tree pruning end, 1 roots, 0 extra nodes, 0 pruned nodes, max_depth=0\u001b[0m\n",
      "\u001b[31m[68]#011train-auc:0.93768#011validation-auc:0.903509\u001b[0m\n",
      "\u001b[31m[17:45:41] src/tree/updater_prune.cc:74: tree pruning end, 1 roots, 0 extra nodes, 0 pruned nodes, max_depth=0\u001b[0m\n",
      "\u001b[31m[69]#011train-auc:0.93768#011validation-auc:0.903509\u001b[0m\n",
      "\u001b[31m[17:45:41] src/tree/updater_prune.cc:74: tree pruning end, 1 roots, 0 extra nodes, 0 pruned nodes, max_depth=0\u001b[0m\n",
      "\u001b[31m[70]#011train-auc:0.93768#011validation-auc:0.903509\u001b[0m\n",
      "\u001b[31m[17:45:41] src/tree/updater_prune.cc:74: tree pruning end, 1 roots, 0 extra nodes, 0 pruned nodes, max_depth=0\u001b[0m\n",
      "\u001b[31m[71]#011train-auc:0.93768#011validation-auc:0.903509\u001b[0m\n",
      "\u001b[31m[17:45:41] src/tree/updater_prune.cc:74: tree pruning end, 1 roots, 0 extra nodes, 0 pruned nodes, max_depth=0\u001b[0m\n",
      "\u001b[31m[72]#011train-auc:0.93768#011validation-auc:0.903509\u001b[0m\n",
      "\u001b[31m[17:45:41] src/tree/updater_prune.cc:74: tree pruning end, 1 roots, 0 extra nodes, 0 pruned nodes, max_depth=0\u001b[0m\n",
      "\u001b[31m[73]#011train-auc:0.93768#011validation-auc:0.903509\u001b[0m\n",
      "\u001b[31m[17:45:41] src/tree/updater_prune.cc:74: tree pruning end, 1 roots, 0 extra nodes, 0 pruned nodes, max_depth=0\u001b[0m\n",
      "\u001b[31m[74]#011train-auc:0.93768#011validation-auc:0.903509\u001b[0m\n",
      "\u001b[31m[17:45:41] src/tree/updater_prune.cc:74: tree pruning end, 1 roots, 0 extra nodes, 0 pruned nodes, max_depth=0\u001b[0m\n",
      "\u001b[31m[75]#011train-auc:0.93768#011validation-auc:0.903509\u001b[0m\n",
      "\u001b[31m[17:45:41] src/tree/updater_prune.cc:74: tree pruning end, 1 roots, 0 extra nodes, 0 pruned nodes, max_depth=0\u001b[0m\n",
      "\u001b[31m[76]#011train-auc:0.93768#011validation-auc:0.903509\u001b[0m\n",
      "\u001b[31m[17:45:41] src/tree/updater_prune.cc:74: tree pruning end, 1 roots, 0 extra nodes, 0 pruned nodes, max_depth=0\u001b[0m\n",
      "\u001b[31m[77]#011train-auc:0.93768#011validation-auc:0.903509\u001b[0m\n",
      "\u001b[31m[17:45:41] src/tree/updater_prune.cc:74: tree pruning end, 1 roots, 0 extra nodes, 0 pruned nodes, max_depth=0\u001b[0m\n",
      "\u001b[31m[78]#011train-auc:0.93768#011validation-auc:0.903509\u001b[0m\n",
      "\u001b[31m[17:45:41] src/tree/updater_prune.cc:74: tree pruning end, 1 roots, 0 extra nodes, 0 pruned nodes, max_depth=0\u001b[0m\n",
      "\u001b[31m[79]#011train-auc:0.93768#011validation-auc:0.903509\u001b[0m\n",
      "\u001b[31m[17:45:41] src/tree/updater_prune.cc:74: tree pruning end, 1 roots, 0 extra nodes, 0 pruned nodes, max_depth=0\u001b[0m\n",
      "\u001b[31m[80]#011train-auc:0.93768#011validation-auc:0.903509\u001b[0m\n",
      "\u001b[31m[17:45:41] src/tree/updater_prune.cc:74: tree pruning end, 1 roots, 0 extra nodes, 0 pruned nodes, max_depth=0\u001b[0m\n",
      "\u001b[31m[81]#011train-auc:0.93768#011validation-auc:0.903509\u001b[0m\n",
      "\u001b[31m[17:45:41] src/tree/updater_prune.cc:74: tree pruning end, 1 roots, 0 extra nodes, 0 pruned nodes, max_depth=0\u001b[0m\n",
      "\u001b[31m[82]#011train-auc:0.93768#011validation-auc:0.903509\u001b[0m\n",
      "\u001b[31m[17:45:41] src/tree/updater_prune.cc:74: tree pruning end, 1 roots, 0 extra nodes, 0 pruned nodes, max_depth=0\u001b[0m\n",
      "\u001b[31m[83]#011train-auc:0.93768#011validation-auc:0.903509\u001b[0m\n",
      "\u001b[31m[17:45:41] src/tree/updater_prune.cc:74: tree pruning end, 1 roots, 0 extra nodes, 0 pruned nodes, max_depth=0\u001b[0m\n",
      "\u001b[31m[84]#011train-auc:0.93768#011validation-auc:0.903509\u001b[0m\n",
      "\u001b[31m[17:45:41] src/tree/updater_prune.cc:74: tree pruning end, 1 roots, 0 extra nodes, 0 pruned nodes, max_depth=0\u001b[0m\n",
      "\u001b[31m[85]#011train-auc:0.93768#011validation-auc:0.903509\u001b[0m\n",
      "\u001b[31m[17:45:41] src/tree/updater_prune.cc:74: tree pruning end, 1 roots, 0 extra nodes, 0 pruned nodes, max_depth=0\u001b[0m\n",
      "\u001b[31m[86]#011train-auc:0.93768#011validation-auc:0.903509\u001b[0m\n",
      "\u001b[31m[17:45:41] src/tree/updater_prune.cc:74: tree pruning end, 1 roots, 0 extra nodes, 0 pruned nodes, max_depth=0\u001b[0m\n",
      "\u001b[31m[87]#011train-auc:0.93768#011validation-auc:0.903509\u001b[0m\n",
      "\u001b[31m[17:45:41] src/tree/updater_prune.cc:74: tree pruning end, 1 roots, 0 extra nodes, 0 pruned nodes, max_depth=0\u001b[0m\n",
      "\u001b[31m[88]#011train-auc:0.93768#011validation-auc:0.903509\u001b[0m\n",
      "\u001b[31m[17:45:41] src/tree/updater_prune.cc:74: tree pruning end, 1 roots, 0 extra nodes, 0 pruned nodes, max_depth=0\u001b[0m\n",
      "\u001b[31m[89]#011train-auc:0.93768#011validation-auc:0.903509\u001b[0m\n",
      "\u001b[31m[17:45:41] src/tree/updater_prune.cc:74: tree pruning end, 1 roots, 0 extra nodes, 0 pruned nodes, max_depth=0\u001b[0m\n",
      "\u001b[31m[90]#011train-auc:0.93768#011validation-auc:0.903509\u001b[0m\n",
      "\u001b[31m[17:45:41] src/tree/updater_prune.cc:74: tree pruning end, 1 roots, 0 extra nodes, 0 pruned nodes, max_depth=0\u001b[0m\n",
      "\u001b[31m[91]#011train-auc:0.93768#011validation-auc:0.903509\u001b[0m\n",
      "\u001b[31m[17:45:41] src/tree/updater_prune.cc:74: tree pruning end, 1 roots, 0 extra nodes, 0 pruned nodes, max_depth=0\u001b[0m\n",
      "\u001b[31m[92]#011train-auc:0.93768#011validation-auc:0.903509\u001b[0m\n",
      "\u001b[31m[17:45:41] src/tree/updater_prune.cc:74: tree pruning end, 1 roots, 0 extra nodes, 0 pruned nodes, max_depth=0\u001b[0m\n",
      "\u001b[31m[93]#011train-auc:0.93768#011validation-auc:0.903509\u001b[0m\n",
      "\u001b[31m[17:45:41] src/tree/updater_prune.cc:74: tree pruning end, 1 roots, 0 extra nodes, 0 pruned nodes, max_depth=0\u001b[0m\n",
      "\u001b[31m[94]#011train-auc:0.93768#011validation-auc:0.903509\u001b[0m\n",
      "\u001b[31m[17:45:41] src/tree/updater_prune.cc:74: tree pruning end, 1 roots, 0 extra nodes, 0 pruned nodes, max_depth=0\u001b[0m\n",
      "\u001b[31m[95]#011train-auc:0.93768#011validation-auc:0.903509\u001b[0m\n",
      "\u001b[31m[17:45:41] src/tree/updater_prune.cc:74: tree pruning end, 1 roots, 0 extra nodes, 0 pruned nodes, max_depth=0\u001b[0m\n",
      "\u001b[31m[96]#011train-auc:0.93768#011validation-auc:0.903509\u001b[0m\n",
      "\u001b[31m[17:45:41] src/tree/updater_prune.cc:74: tree pruning end, 1 roots, 0 extra nodes, 0 pruned nodes, max_depth=0\u001b[0m\n",
      "\u001b[31m[97]#011train-auc:0.93768#011validation-auc:0.903509\u001b[0m\n",
      "\u001b[31m[17:45:41] src/tree/updater_prune.cc:74: tree pruning end, 1 roots, 0 extra nodes, 0 pruned nodes, max_depth=0\u001b[0m\n",
      "\u001b[31m[98]#011train-auc:0.93768#011validation-auc:0.903509\u001b[0m\n",
      "\u001b[31m[17:45:41] src/tree/updater_prune.cc:74: tree pruning end, 1 roots, 0 extra nodes, 0 pruned nodes, max_depth=0\u001b[0m\n",
      "\u001b[31m[99]#011train-auc:0.93768#011validation-auc:0.903509\u001b[0m\n",
      "Billable seconds: 52\n",
      "--------------------------------------------------------------------------------------------------!"
     ]
    }
   ],
   "source": [
    "xgb_hypertuned_predictor = tuner_log.deploy(initial_instance_count=1,\n",
    "                           instance_type='ml.m4.xlarge')"
   ]
  },
  {
   "cell_type": "code",
   "execution_count": 32,
   "metadata": {},
   "outputs": [
    {
     "name": "stderr",
     "output_type": "stream",
     "text": [
      "/home/ec2-user/anaconda3/envs/python3/lib/python3.6/site-packages/ipykernel/__main__.py:14: FutureWarning: Method .as_matrix will be removed in a future version. Use .values instead.\n"
     ]
    }
   ],
   "source": [
    "from sagemaker.predictor import csv_serializer\n",
    "xgb_hypertuned_predictor.content_type = 'text/csv'\n",
    "xgb_hypertuned_predictor.serializer = csv_serializer\n",
    "xgb_hypertuned_predictor.deserializer = None\n",
    "\n",
    "def predict(data, rows=len(test_data)):\n",
    "    split_array = np.array_split(data, int(data.shape[0] / float(rows) + 1))\n",
    "    predictions = ''\n",
    "    for array in split_array:\n",
    "        predictions = ','.join([predictions, xgb_hypertuned_predictor.predict(array).decode('utf-8')])\n",
    "\n",
    "    return np.fromstring(predictions[1:], sep=',')\n",
    "\n",
    "predictions = predict(test_data.as_matrix()[:, 1:])"
   ]
  },
  {
   "cell_type": "code",
   "execution_count": 33,
   "metadata": {},
   "outputs": [
    {
     "data": {
      "text/html": [
       "<div>\n",
       "<style scoped>\n",
       "    .dataframe tbody tr th:only-of-type {\n",
       "        vertical-align: middle;\n",
       "    }\n",
       "\n",
       "    .dataframe tbody tr th {\n",
       "        vertical-align: top;\n",
       "    }\n",
       "\n",
       "    .dataframe thead th {\n",
       "        text-align: right;\n",
       "    }\n",
       "</style>\n",
       "<table border=\"1\" class=\"dataframe\">\n",
       "  <thead>\n",
       "    <tr style=\"text-align: right;\">\n",
       "      <th>predictions</th>\n",
       "      <th>0.0</th>\n",
       "      <th>1.0</th>\n",
       "    </tr>\n",
       "    <tr>\n",
       "      <th>actual</th>\n",
       "      <th></th>\n",
       "      <th></th>\n",
       "    </tr>\n",
       "  </thead>\n",
       "  <tbody>\n",
       "    <tr>\n",
       "      <th>0</th>\n",
       "      <td>42</td>\n",
       "      <td>3</td>\n",
       "    </tr>\n",
       "    <tr>\n",
       "      <th>1</th>\n",
       "      <td>7</td>\n",
       "      <td>20</td>\n",
       "    </tr>\n",
       "  </tbody>\n",
       "</table>\n",
       "</div>"
      ],
      "text/plain": [
       "predictions  0.0  1.0\n",
       "actual               \n",
       "0             42    3\n",
       "1              7   20"
      ]
     },
     "execution_count": 33,
     "metadata": {},
     "output_type": "execute_result"
    }
   ],
   "source": [
    "pd.crosstab(index=test_data.iloc[:, 0], columns=np.round(predictions), rownames=['actual'], colnames=['predictions'])"
   ]
  },
  {
   "cell_type": "markdown",
   "metadata": {},
   "source": [
    "Accuracy and precision calculation AC=TN+TP/TN+FP+FN+TP"
   ]
  },
  {
   "cell_type": "code",
   "execution_count": 34,
   "metadata": {},
   "outputs": [
    {
     "name": "stdout",
     "output_type": "stream",
     "text": [
      "72.47619047619048\n"
     ]
    }
   ],
   "source": [
    "Accuracy=42+20/42+20+10\n",
    "print(Accuracy)"
   ]
  },
  {
   "cell_type": "code",
   "execution_count": 35,
   "metadata": {},
   "outputs": [
    {
     "data": {
      "image/png": "[encoded data removed]",
      "text/plain": [
       "<Figure size 432x288 with 1 Axes>"
      ]
     },
     "metadata": {},
     "output_type": "display_data"
    }
   ],
   "source": [
    "plt.hist(predictions)\n",
    "plt.show()"
   ]
  },
  {
   "cell_type": "code",
   "execution_count": 36,
   "metadata": {},
   "outputs": [
    {
     "data": {
      "text/plain": [
       "0.8695473251028806"
      ]
     },
     "execution_count": 36,
     "metadata": {},
     "output_type": "execute_result"
    }
   ],
   "source": [
    "import numpy as np\n",
    "from sklearn.metrics import roc_auc_score\n",
    "\n",
    "roc_auc_score(test_data['Survived'], predictions)"
   ]
  },
  {
   "cell_type": "code",
   "execution_count": 37,
   "metadata": {},
   "outputs": [
    {
     "data": {
      "text/plain": [
       "0.7999999999999999"
      ]
     },
     "execution_count": 37,
     "metadata": {},
     "output_type": "execute_result"
    }
   ],
   "source": [
    "from sklearn.metrics import f1_score\n",
    "\n",
    "f1_score(test_data[\"Survived\"], np.round(predictions))"
   ]
  },
  {
   "cell_type": "markdown",
   "metadata": {},
   "source": [
    "Clean-up\n",
    "If you're ready to be done with this notebook, please run the cell below. This will remove the hosted endpoint you created and avoid any charges from a stray instance being left on."
   ]
  },
  {
   "cell_type": "code",
   "execution_count": null,
   "metadata": {},
   "outputs": [],
   "source": [
    "#sagemaker.Session().delete_endpoint(xgb_predictor.endpoint)"
   ]
  }
 ],
 "metadata": {
  "kernelspec": {
   "display_name": "conda_python3",
   "language": "python",
   "name": "conda_python3"
  },
  "language_info": {
   "codemirror_mode": {
    "name": "ipython",
    "version": 3
   },
   "file_extension": ".py",
   "mimetype": "text/x-python",
   "name": "python",
   "nbconvert_exporter": "python",
   "pygments_lexer": "ipython3",
   "version": "3.6.5"
  }
 },
 "nbformat": 4,
 "nbformat_minor": 2
}
